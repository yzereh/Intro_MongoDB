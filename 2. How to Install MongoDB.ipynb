{
 "cells": [
  {
   "cell_type": "markdown",
   "id": "f5189f94",
   "metadata": {},
   "source": [
    "# <span style=\"color:green\">Deployments Environments</span>\n",
    "***"
   ]
  },
  {
   "cell_type": "markdown",
   "id": "44282623",
   "metadata": {},
   "source": [
    "<span style=\"color:rgb(50,50,50);text-decoration:none\">We can start working with MongoDB in three environments:</span>\n",
    "- <span style=\"color:rgb(50,50,50);text-decoration:none\"><span style=\"color:rgb(50,150,50);text-decoration:none\">**MongoDB Atlas**</span>: The fully managed service for MongoDB deployments in the cloud. This is offered by MongoDB itself. There is a free tier with some limitations</span>\n",
    "- <span style=\"color:rgb(50,50,50);text-decoration:none\"><span style=\"color:rgb(50,150,50);text-decoration:none\">**MongoDB Enterprise**</span>: The subscription-based, self-managed version of MongoDB</span>\n",
    "- <span style=\"color:rgb(50,50,50);text-decoration:none\"><span style=\"color:rgb(50,150,50);text-decoration:none\">**MongoDB Community**</span>: The source-available, free-to-use, and self-managed version of MongoDB. We will start working with this environment</span>"
   ]
  },
  {
   "cell_type": "markdown",
   "id": "afc7e985",
   "metadata": {},
   "source": [
    "# <span style=\"color:green\">Download</span>\n",
    "***"
   ]
  },
  {
   "cell_type": "markdown",
   "id": "8e0558b1",
   "metadata": {},
   "source": [
    "<span style=\"color:rgb(50,50,50);text-decoration:none\">Download MongoDB Community Server from this link https://www.mongodb.com/try/download/community. You can choose the version, plaatform and package from the dropdown menus. </span>"
   ]
  },
  {
   "cell_type": "markdown",
   "id": "1316caf6",
   "metadata": {},
   "source": [
    "# <span style=\"color:green\">Install</span>\n",
    "***"
   ]
  },
  {
   "cell_type": "markdown",
   "id": "a82cb28f",
   "metadata": {},
   "source": [
    "- <span style=\"color:rgb(50,50,50);text-decoration:none\">Start installing the server, accept the license agreement and move forward unti you get to setup type</span>\n",
    "- <span style=\"color:rgb(50,50,50);text-decoration:none\">If you want, you can choose a **custom** setup allowing you to choose the features that you need. Otherwise, choose the **complete** setup where you can install all features. This will take up the most disk space. This is typically between 1GB and 10GB depending on the amount of data, growth, logs, etc.</span>\n",
    "- <span style=\"color:rgb(50,50,50);text-decoration:none\"> For instance, in custome setup, you can choose whether you want install mongod on a <span style=\"color:rgb(216,118,0);text-decoration:none\">**local hard drive**</span> or on a <span style=\"color:rgb(216,118,0);text-decoration:none\">**networked environment**</span></span>\n",
    "- <span style=\"color:rgb(50,50,50);text-decoration:none\"> If you choose the complete setup, the next step would ask you if you want to install <span style=\"color:rgb(216,118,0);text-decoration:none\">**MongoDB as a Service**</span>. This means when you boot up your system, MongoDB will run automatically in the background</span>\n",
    "> - <span style=\"color:rgb(50,50,50);text-decoration:none\">If you choose this option, you can select a name for the service, a location for the data, and a location for the logs. You can just leave the default values and proceed</span>\n",
    "- <span style=\"color:rgb(50,50,50);text-decoration:none\"> The next step would ask you if you want to install <span style=\"color:rgb(216,118,0);text-decoration:none\">**MongoDB Compass**</span> which is a graphical user interface (GUI) allowing you to work with MongoDB databases</span>\n",
    "- <span style=\"color:rgb(50,50,50);text-decoration:none\">If you are on a windows system, unless you have changed the location manually in the install process, MogoDB will be installed here: C:\\Program Files\\MongoDB</span>"
   ]
  },
  {
   "cell_type": "markdown",
   "id": "8515162e",
   "metadata": {},
   "source": [
    "# <span style=\"color:green\">Check if the Server is Running</span>\n",
    "***"
   ]
  },
  {
   "cell_type": "markdown",
   "id": "b4dffc7d",
   "metadata": {},
   "source": [
    "- <span style=\"color:rgb(50,50,50);text-decoration:none\"> On Windows, if you have <span style=\"color:rgb(216,118,0);text-decoration:none\">**installed MongoDB as a Service**</span>, then you can open a cmd as an administaator and type ```net start mongodb```</span>\n",
    "> - <span style=\"color:rgb(50,50,50);text-decoration:none\">You should see a messae like this if the server is running: ```The requested service has already been started.```\n",
    "> - If the server is not running, the above command should start the server, and you should receive a message like this: \n",
    ">>  ```The MongoDB Server (MongoDB) service is starting......```\n",
    ">>  ```The MongoDB Server (MongoDB) service was started successfully.```</span> \n",
    "- <span style=\"color:rgb(50,50,50);text-decoration:none\">If after running the ```net start mongodb``` command, the server is still not running, then there is a possibility that the Firewall does not allow connections through MongoDB port. Note that I am assuming that you installed the server locally</span> \n",
    "> - <span>To open the firewall port, use the command ```netsh advfirewall firewall add rule name=\"MongoDB\" dir=in action=allow protocol=TCP localport=27017```</span>"
   ]
  },
  {
   "cell_type": "markdown",
   "id": "b1139335",
   "metadata": {},
   "source": [
    "- <span style=\"color:rgb(50,50,50);text-decoration:none\">If MongoDB is <span style=\"color:rgb(216,118,0);text-decoration:none\">**not installed as a Service**</span>, the following steps must be followed to run the server: \n",
    "> <span style=\"color:rgb(50,50,50);text-decoration:none\">1. First, you need to create a directory called data where MongoDB can store the data. In a cmd, run the following code ```mkdir C:\\data\\db```. This is where MongoDB stores the data by default</span><br> <span style=\"color:rgb(50,50,50);text-decoration:none\">2. Then, Navigate to the directory where mongod.exe is located. By default, it is in ```C:\\Program\\Files\\MongoDB\\Server\\4.4\\bin```. You cana do this by running ```cd C:\\Program\\Files\\MongoDB\\Server\\4.4\\bin``` in your cmd</span>\n",
    "<br> <span style=\"color:rgb(50,50,50);text-decoration:none\">3. Run the following command to start the server: ```mongod.exe --dbpath \"C:\\data\\db\"```. This line starts the serevr and sets the data path as well which is required.\n",
    "- <span>After running the command, the server should start running, and now, you will be able to connect to the server using either MongoDB Compass if installed or a mongo shell. "
   ]
  },
  {
   "cell_type": "markdown",
   "id": "625c8e30",
   "metadata": {},
   "source": [
    "# <span style=\"color:green\">Connect to the Server</span>\n",
    "***"
   ]
  },
  {
   "cell_type": "markdown",
   "id": "9c6da3f7",
   "metadata": {},
   "source": [
    "### <span style=\"color:orange\">1. MongoDB Compass</span>"
   ]
  },
  {
   "cell_type": "markdown",
   "id": "8198edb9",
   "metadata": {},
   "source": [
    "- <span style=\"color:rgb(50,50,50);text-decoration:none\">If <span style=\"color:rgb(216,118,0);text-decoration:none\">**MongoDB Compass**</span> is installed, you can connect to the server by hitting New Connection button in the left panel and connecting to the server using URI mongodb://localhost:27017</span>\n",
    "- <span style=\"color:rgb(50,50,50);text-decoration:none\">Note again that I am assumming you have intalled MongoDB on a local hard drive. Otherwise, please check the <a style=\"color:rgb(216,118,0);text-decoration:none\" href=\"https://www.mongodb.com/docs/manual/reference/connection-string/?utm_source=compass&utm_medium=product\">**Connection Strings**</a> website for more information</span> "
   ]
  },
  {
   "cell_type": "markdown",
   "id": "8cec7395",
   "metadata": {},
   "source": [
    "### <span style=\"color:orange\">2. MongoDB Shell</span>"
   ]
  },
  {
   "cell_type": "markdown",
   "id": "9fe2d3b5",
   "metadata": {},
   "source": [
    "- <span style=\"color:rgb(50,50,50);text-decoration:none\">In case <span style=\"color:rgb(216,118,0);text-decoration:none\">**MongoDB Compass is not installed**</span>, one way to connect to the server and start querying is to use MongoDB shell which can be downloaded from the <a href=\"https://www.mongodb.com/try/download/shell\" style=\"color:rgb(216,118,0);text-decoration:none\">**MongoDB shell page**</a></span>\n",
    "- <span>Install the app, open a cmd and run the command ```mongosh```. It will ask you to choose a connection string which is ```\"mongodb://127.0.0.1:27017\"``` by default. This works if we are trying to connect to mongod on the same machine; i.e. a local hard drive</span>\n",
    "- <span> This will connect you to the server, and now you will be able to work with your databases. For instance, you can check all the MongoDB databases that exist on your machine:</span>\n",
    "> <span>**show dbs**</span><br>\n",
    "<span align=\"center\"><img src=\"images/show_dbs.png\"/></span>\n",
    "\n",
    "> - <span>**admin**: The admin holds system collections and user authentication and authorization data</span>\n",
    "> - <span>**config**: The config database stores metadata and configuration settings for sharded clusters</span>\n",
    "> - <span>**local**: The local database stores data used in replication, such as the oplog for replica sets</span>\n",
    "<span>For more information about running commands in mongosh, please check the <a href=\"https://www.mongodb.com/docs/mongodb-shell/run-commands/\" style=\"color:rgb(216,118,0);text-decoration:none\">**MongoDB Shell webpage**</span>\n",
    "\n"
   ]
  },
  {
   "cell_type": "markdown",
   "id": "8ac3c5f7",
   "metadata": {},
   "source": [
    "### <span style=\"color:orange\">3. Connect from Python</span>\n"
   ]
  },
  {
   "cell_type": "markdown",
   "id": "3598d3f2",
   "metadata": {},
   "source": [
    "- <span style=\"color:rgb(50,50,50);text-decoration:none\">We can use the <span style=\"color:rgb(216,118,0);text-decoration:none\">**Pymongo library**</span> in python to work with our MongoDB dabases. Here, We will mostly use this approach to manipulate and extract insights from our dbs</span>\n",
    "- <span style=\"color:rgb(50,50,50);text-decoration:none\">First, we need to install the pymnongo library. To do so, use ```!pip install pymongo``` in a coding cell in a jupyter notebook</span>"
   ]
  },
  {
   "cell_type": "code",
   "execution_count": 7,
   "id": "96b9e4a1",
   "metadata": {
    "collapsed": true
   },
   "outputs": [
    {
     "name": "stdout",
     "output_type": "stream",
     "text": [
      "Requirement already satisfied: pymongo in c:\\users\\yaser\\appdata\\local\\programs\\python\\python311\\lib\\site-packages (4.4.0)"
     ]
    },
    {
     "name": "stderr",
     "output_type": "stream",
     "text": [
      "\n",
      "[notice] A new release of pip is available: 23.1.2 -> 24.1.2\n",
      "[notice] To update, run: python.exe -m pip install --upgrade pip\n"
     ]
    },
    {
     "name": "stdout",
     "output_type": "stream",
     "text": [
      "\n",
      "Requirement already satisfied: dnspython<3.0.0,>=1.16.0 in c:\\users\\yaser\\appdata\\local\\programs\\python\\python311\\lib\\site-packages (from pymongo) (2.3.0)\n"
     ]
    }
   ],
   "source": [
    "!pip install pymongo"
   ]
  },
  {
   "cell_type": "markdown",
   "id": "2edea1cf",
   "metadata": {},
   "source": [
    "- <span style=\"color:rgb(50,50,50);text-decoration:none\">Next, we need to import pymongo and connect tp mongod server located on our machine. This can be done using the ```pymongo.MongoClient``` method</span>"
   ]
  },
  {
   "cell_type": "code",
   "execution_count": 8,
   "id": "3888e4a2",
   "metadata": {},
   "outputs": [],
   "source": [
    "import pymongo"
   ]
  },
  {
   "cell_type": "code",
   "execution_count": 9,
   "id": "acb3a89a",
   "metadata": {},
   "outputs": [],
   "source": [
    "client_1 = pymongo.MongoClient(\"mongodb://localhost:27017/\")"
   ]
  },
  {
   "cell_type": "markdown",
   "id": "dff120cf",
   "metadata": {},
   "source": [
    "- <span style=\"color:rgb(50,50,50);text-decoration:none\">To make sure you are connected to the server, you can list your databases using the ```list_database_names()``` method</span> "
   ]
  },
  {
   "cell_type": "code",
   "execution_count": 16,
   "id": "1bb471ca",
   "metadata": {},
   "outputs": [
    {
     "data": {
      "text/plain": [
       "['admin', 'config', 'local']"
      ]
     },
     "execution_count": 16,
     "metadata": {},
     "output_type": "execute_result"
    }
   ],
   "source": [
    "client_1.list_database_names()"
   ]
  },
  {
   "cell_type": "markdown",
   "id": "64954f49",
   "metadata": {},
   "source": [
    "- <span style=\"color:rgb(50,50,50);text-decoration:none\">The output of the above code should be ```['admin', 'config', 'local']``` if you have not added a new database</span> "
   ]
  }
 ],
 "metadata": {
  "kernelspec": {
   "display_name": "Python 3 (ipykernel)",
   "language": "python",
   "name": "python3"
  },
  "language_info": {
   "codemirror_mode": {
    "name": "ipython",
    "version": 3
   },
   "file_extension": ".py",
   "mimetype": "text/x-python",
   "name": "python",
   "nbconvert_exporter": "python",
   "pygments_lexer": "ipython3",
   "version": "3.11.4"
  }
 },
 "nbformat": 4,
 "nbformat_minor": 5
}
