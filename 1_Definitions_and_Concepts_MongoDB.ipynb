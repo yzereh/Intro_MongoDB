{
 "cells": [
  {
   "cell_type": "markdown",
   "id": "9059b915",
   "metadata": {},
   "source": [
    "# <font style=\"color:green\">mongoDB Concepts</font>\n",
    "***"
   ]
  },
  {
   "cell_type": "markdown",
   "id": "1b508058",
   "metadata": {},
   "source": [
    "- <a href='#shells_ID' style=\"color:rgb(119,136,153);text-decoration:none\">MongoDB is a non-relational (**NoSQL**) database</a>\n",
    "- <a href='#shells_ID' style=\"color:rgb(119,136,153);text-decoration:none\">Instead of rows and columns, it uses a concept named **document** to model the data.</a>\n",
    "- <a href='#shells_ID' style=\"color:rgb(119,136,153);text-decoration:none\">Each document is a **JSON-like** record. It has fields (**keys**) and **values**, so it provides information about objects.</a>\n",
    "- <a href='#shells_ID' style=\"color:rgb(119,136,153);text-decoration:none\">We can think of a document as an **object** in Python. This is why MongoDB is easy to work with for developers since doscuments can directly map the objects</a>\n",
    "- <a href='#shells_ID' style=\"color:rgb(119,136,153);text-decoration:none\">**Fields** in the documents can **vary** from document to document, and you can modify the structure at any time</a>\n",
    "- <a href='#shells_ID' style=\"color:rgb(119,136,153);text-decoration:none\">The **values** of documents can be in different **types** and **structures**. This includes strings, numbers, dates, arrays, lists, dictionaries, matrices, objects, etc.</a>\n",
    "\n"
   ]
  },
  {
   "cell_type": "markdown",
   "id": "2a39322c",
   "metadata": {},
   "source": [
    "![document](mongodb_doc.png)"
   ]
  }
 ],
 "metadata": {
  "kernelspec": {
   "display_name": "Python 3 (ipykernel)",
   "language": "python",
   "name": "python3"
  },
  "language_info": {
   "codemirror_mode": {
    "name": "ipython",
    "version": 3
   },
   "file_extension": ".py",
   "mimetype": "text/x-python",
   "name": "python",
   "nbconvert_exporter": "python",
   "pygments_lexer": "ipython3",
   "version": "3.11.4"
  }
 },
 "nbformat": 4,
 "nbformat_minor": 5
}
