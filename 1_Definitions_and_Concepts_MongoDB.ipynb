{
 "cells": [
  {
   "cell_type": "markdown",
   "id": "9059b915",
   "metadata": {},
   "source": [
    "# <font style=\"color:green\">mongoDB Concepts</font>\n",
    "***"
   ]
  },
  {
   "cell_type": "markdown",
   "id": "1b508058",
   "metadata": {},
   "source": [
    "- <a href='#shells_ID' style=\"color:rgb(119,136,153);text-decoration:none\">MongoDB is a non-relational (**NoSQL**) database</a>\n",
    "- <a href='#shells_ID' style=\"color:rgb(119,136,153);text-decoration:none\">To model the data, instead of using rows and columns, it uses a type of record called **document**</a>\n",
    "- <a href='#shells_ID' style=\"color:rgb(119,136,153);text-decoration:none\">Each document is a **JSON-like** record. It has fields (**keys**) and **values**, so it provides information about objects</a>\n",
    "- <a href='#shells_ID' style=\"color:rgb(119,136,153);text-decoration:none\">We can think of a document as an **object** in Python. This is why MongoDB is easy to work with for developers since doscuments can directly map the objects</a>\n",
    "- <a href='#shells_ID' style=\"color:rgb(119,136,153);text-decoration:none\">**Fields** in the documents can **vary** from document to document, and you can modify the structure at any time</a>\n",
    "- <a href='#shells_ID' style=\"color:rgb(119,136,153);text-decoration:none\">The **values** of documents can be in different **types** and **structures**. This includes strings, numbers, dates, arrays, lists, dictionaries, matrices, objects, etc.</a>\n",
    "\n"
   ]
  },
  {
   "cell_type": "markdown",
   "id": "2a39322c",
   "metadata": {},
   "source": [
    "<p align=\"right\"><img src=\"/mongodb_doc.png\" name=\"sample_doc\"></p>\n",
    "<p align=\"right\"><a id='sample_doc' style=\"color:rgb(216,118,0)\">An Example of a document</a></p>\n"

   ]
  },
  {
   "cell_type": "markdown",
   "id": "e68ff417",
   "metadata": {},
   "source": [
    "- <p style=\"color:rgb(119,136,153);text-decoration:none\">As can be seen in this <a href='#sample_doc' style=\"color:rgb(216,118,0);text-decoration:none\">sample</a>, there are several fields with different types of values</p>\n",
    "- <p style=\"color:rgb(119,136,153);text-decoration:none\"> Fields, such as <span style=\"color:rgb(216,118,0);text-decoration:none\">username</span>, <span style=\"color:rgb(216,118,0);text-decoration:none\">email</span>, <span style=\"color:rgb(216,118,0);text-decoration:none\">fullName</span>, etc. are strings. However, <span style=\"color:rgb(216,118,0);text-decoration:none\">address</span> is a dictionary. Or, <span style=\"color:rgb(216,118,0);text-decoration:none\">phoneNumbers</span> is a list of dictionaries. "
   ]
  }
 ],
 "metadata": {
  "kernelspec": {
   "display_name": "Python 3 (ipykernel)",
   "language": "python",
   "name": "python3"
  },
  "language_info": {
   "codemirror_mode": {
    "name": "ipython",
    "version": 3
   },
   "file_extension": ".py",
   "mimetype": "text/x-python",
   "name": "python",
   "nbconvert_exporter": "python",
   "pygments_lexer": "ipython3",
   "version": "3.11.4"
  }
 },
 "nbformat": 4,
 "nbformat_minor": 5
}
