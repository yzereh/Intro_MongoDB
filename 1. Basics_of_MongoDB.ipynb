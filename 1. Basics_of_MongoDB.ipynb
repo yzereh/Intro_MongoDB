{
 "cells": [
  {
   "cell_type": "markdown",
   "id": "2a59be95",
   "metadata": {},
   "source": [
    "# <font style=\"color:green\">MongoDB Concepts</font>"
   ]
  },
  {
   "cell_type": "markdown",
   "id": "d5cd7406",
   "metadata": {},
   "source": [
    "- <a style=\"color:rgb(50,50,50);text-decoration:none\">MongoDB is a non-relational (**NoSQL**) database</a>\n",
    "- <a style=\"color:rgb(50,50,50);text-decoration:none\">To model the data, instead of using rows and columns, it uses a type of record called <span style=\"color:rgb(216,118,0);text-decoration:none\">**document**</span></a>\n",
    "> - <a style=\"color:rgb(50,50,50);text-decoration:none\">Each document is a **JSON-like** record. It has fields (**keys**) and **values** providing information about objects</a>\n",
    "> - <a style=\"color:rgb(50,50,50);text-decoration:none\">We can think of a document as an **object** in Python. This is why MongoDB is easy to work with for developers since doscuments can directly map the objects</a>\n",
    "> - <a style=\"color:rgb(50,50,50);text-decoration:none\">**Fields** in the documents can **vary** from document to document, and you can modify the structure at any time</a>\n",
    "> - <a style=\"color:rgb(50,50,50);text-decoration:none\">The **values** of documents can be in different **types** and **structures**. This includes strings, numbers, dates, arrays, lists, dictionaries, matrices, objects, etc.</a>\n",
    "> - <a style=\"color:rgb(50,50,50);text-decoration:none\">**New fields** can be simply added to a document without affecting other documents</a>\n",
    "- <a style=\"color:rgb(50,50,50);text-decoration:none\">MongoDB provides native **drivers** for popular programming\n",
    "languages including Java, **Python**, Scala, etc.</a>\n",
    "\n",
    "- <a style=\"color:rgb(50,50,50);text-decoration:none\">Drivers can be used to work with MongoDB in your progamming language of interest</a>"
   ]
  },
  {
   "cell_type": "markdown",
   "id": "40af8a1b",
   "metadata": {},
   "source": [
    "<p align=\"center\"><img src=\"/mongodb_doc.png\"/></p>\n",
    "<p align=\"center\" id='sample_doc'><a style=\"color:rgb(216,118,0)\">An Example of a document</a></p>\n"
   ]
  },
  {
   "cell_type": "markdown",
   "id": "d42a6ea2",
   "metadata": {},
   "source": [
    "- <span style=\"color:rgb(50,50,50);text-decoration:none\">As can be seen in the <a style=\"color:rgb(216,118,0);text-decoration:none\">**example**</a>, there are several fields with different types of values</span>\n",
    "- <span style=\"color:rgb(50,50,50));text-decoration:none\"> Fields, such as <span style=\"color:rgb(216,118,0);text-decoration:none\">**username**</span>, <span style=\"color:rgb(216,118,0);text-decoration:none\">**email**</span>, <span style=\"color:rgb(216,118,0);text-decoration:none\">**fullName**</span>, etc. are strings. However, <span style=\"color:rgb(216,118,0);text-decoration:none\">**address**</span> is a dictionary. Or, <span style=\"color:rgb(216,118,0);text-decoration:none\">**phoneNumbers**</span> is a list of dictionaries. "
   ]
  },
  {
   "cell_type": "markdown",
   "id": "4eae4508",
   "metadata": {},
   "source": [
    "# <span style=\"color:green\">Collections</span>"
   ]
  },
  {
   "cell_type": "markdown",
   "id": "f649851f",
   "metadata": {},
   "source": [
    "- <span style=\"color:rgb(50,50,50);text-decoration:none\">A collection is a <span style=\"color:rgb(216,118,0);text-decoration:none\">**group**</span> of MongoDB <span style=\"color:rgb(216,118,0);text-decoration:none\">**documents**</span></span>\n",
    "- <span style=\"color:rgb(50,50,50);text-decoration:none\">A collection is the equivalent of a <span style=\"color:rgb(216,118,0);text-decoration:none\">**table**</span> in a relational database, but it does not enforce a schema</span>\n",
    "- <span style=\"color:rgb(50,50,50);text-decoration:none\">Documents within a collection can have different structures</span>\n",
    "- <span style=\"color:rgb(50,50,50);text-decoration:none\">A **database** consists of one or more **collections**</span>"
   ]
  },
  {
   "cell_type": "markdown",
   "id": "d79be23f",
   "metadata": {},
   "source": [
    "<p align=\"center\"><img src=\"/collection.png\"/></p>\n",
    "<p align=\"center\" id='collection_sample'><a style=\"color:rgb(216,118,0)\">An Example of a collection</a></p>"
   ]
  },
  {
   "cell_type": "markdown",
   "id": "c351b7e0",
   "metadata": {},
   "source": [
    "# <span style=\"color:green\">MongoDB Structure</span>"
   ]
  },
  {
   "cell_type": "markdown",
   "id": "214b9107",
   "metadata": {},
   "source": [
    "- <a href='#mongod' style=\"color:rgb(50,50,50);text-decoration:none\">mongod</a>\n",
    "- <a href='#shells_ID' style=\"color:rgb(50,50,50);text-decoration:none\">mongo and mongosh</a>\n",
    "- <a href='#mongos_ID' style=\"color:rgb(50,50,50);text-decoration:none\">mongos</a>\n",
    "- <a href='#distributed_ID' style=\"color:rgb(50,50,50);text-decoration:none\">distributed computing</a>\n"
   ]
  },
  {
   "cell_type": "markdown",
   "id": "087aef41",
   "metadata": {},
   "source": [
    "### <span id='mongod' style=\"color:green\">Mongod</span>"
   ]
  },
  {
   "cell_type": "markdown",
   "id": "ae808f5f",
   "metadata": {},
   "source": [
    "- <span style=\"color:rgb(50,50,50);\">mongod is the **server** component of MongoDB, and it runs in the background to **handle** all database-related **operations**</span>\n",
    "- <span style=\"color:rgb(50,50,50);\">The mongod process is the **core** component of **MongoDB**</span>\n",
    "- <span style=\"color:rgb(50,50,50);\">It handles data **storage**, management, and access</span>\n",
    "- <span style=\"color:rgb(50,50,50);\">It can run as a **standalone** server or as part of a **replica set** or **sharded cluster**</span>\n",
    "- <span style=\"color:rgb(50,50,50);\">mongod stores **data** in files on **disk**</span>\n"
   ]
  },
  {
   "cell_type": "markdown",
   "id": "93a8385c",
   "metadata": {},
   "source": [
    "### <span id=\"shells_ID\" style=\"color:green\">MONGO and MONGOSH</span>"
   ]
  },
  {
   "cell_type": "markdown",
   "id": "bc934a0f",
   "metadata": {},
   "source": [
    "- <font style=\"color:rgb(50,50,50);\">Both are **shells**</font>\n",
    "- <font style=\"color:rgb(50,50,50);\"> Javascript and Node.js **interfaces** that you can use to **interact** with the MongoDB **server** (mongod)</font>\n",
    "- <font style=\"color:rgb(50,50,50);\">They can be used to test **queries** and **operations** directly with your **database**</font>\n",
    "- <p style=\"color:rgb(50,50,50);\"> Mongosh is available as a <b>standalone package</b> in the <a href=https://www.mongodb.com/try/download/shell?jmp=docs style=\"color:rgb(216,118,0)\">MongoDB dowload center</a></p>\n",
    "- <font style=\"color:rgb(50,50,50);\">mongosh can **automate** tasks, perform **batch operations**, or **schedule jobs**</font> "
   ]
  },
  {
   "cell_type": "markdown",
   "id": "8b733175",
   "metadata": {},
   "source": [
    "### <span id=\"mongos_ID\" style=\"color:green\">MONGOS</span>"
   ]
  },
  {
   "cell_type": "markdown",
   "id": "56a5d3d9",
   "metadata": {},
   "source": [
    "- <font style=\"color:rgb(50,50,50);\">It serves as a **query** **router** in a **sharded** cluster</font>\n",
    "- <font style=\"color:rgb(50,50,50);\">It is an **intermediary** between **client** applications and the individual **mongod** instances</font>\n",
    "- <span style=\"color:rgb(50,50,50);\">It uses the metadata from the config servers to determine the location of the data</span>"
   ]
  },
  {
   "cell_type": "markdown",
   "id": "86a7c97f",
   "metadata": {},
   "source": [
    "# <font style=\"color:green\">Distributed Computing</font>"
   ]
  },
  {
   "cell_type": "markdown",
   "id": "9a39143b",
   "metadata": {},
   "source": [
    "- <span style=\"color:rgb(50,50,50);text-decoration:none\"> MongoDB uses **replca sets** and **sharding** to increase the <span style=\"color:rgb(216,118,0);text-decoration:none\">**availibility**</span>, <span style=\"color:rgb(216,118,0);text-decoration:none\">**protection**</span> and <span style=\"color:rgb(216,118,0);text-decoration:none\">**scaling out**</span> the database to multiple nodes</span>\n",
    "- <span style=\"color:rgb(50,50,50);text-decoration:none\">But, what do **replica set** and **sharding** mean? I will try to expain one by one</span>"
   ]
  },
  {
   "cell_type": "markdown",
   "id": "23309cf0",
   "metadata": {},
   "source": [
    "### <span style='color:green'>Sharding</span>"
   ]
  },
  {
   "cell_type": "markdown",
   "id": "7d500f40",
   "metadata": {},
   "source": [
    "- <span style=\"color:rgb(50,50,50);\">Distributed computing in MongoDB is based on the concept of **Sharding**</span>\n",
    "- <span style=\"color:rgb(50,50,50);\">The purpose of sharding is to **distribute** data across multiple machines</span>\n",
    "- <span style=\"color:rgb(50,50,50);\">MongoDB **horizontally** partitions the data across **multiple** servers called **shards**</span>\n",
    "- <span style=\"color:rgb(50,50,50);\">Sharding is a **method** for **distributing** data across multiple **machines** to improve **scalability** and performance for large-scale databases</span>"
   ]
  },
  {
   "cell_type": "markdown",
   "id": "34cdde54",
   "metadata": {},
   "source": [
    "### <span style='color:green'>Replics Sets</span>"
   ]
  },
  {
   "cell_type": "markdown",
   "id": "79800e99",
   "metadata": {},
   "source": [
    "- <span style=\"color:rgb(50,50,50);\">A replica set in MongoDB is a <span style=\"color:rgb(216,118,0);text-decoration:none\">**collection**</span> of MongoDB <span style=\"color:rgb(216,118,0);text-decoration:none\">**instances**</span> that maintain identical <span style=\"color:rgb(216,118,0);text-decoration:none\">**data sets**</span>, ensuring data redundancy, **high availability**, and fault tolerance</span>\n",
    "- <span style=\"color:rgb(50,50,50);\">By having <span style=\"color:rgb(216,118,0);text-decoration:none\">**multiple copies**</span> of data on different <span style=\"color:rgb(216,118,0);text-decoration:none\">**servers**</span>, replica sets enhance data reliability and system resilience</span>\n",
    "- <span style=\"color:rgb(50,50,50);\">This allows <span style=\"color:rgb(216,118,0);text-decoration:none\">**continued operation**</span> even if some servers experience <span style=\"color:rgb(216,118,0);text-decoration:none\">**failures**</span> or maintenance events</span>"
   ]
  },
  {
   "cell_type": "markdown",
   "id": "51e2baab",
   "metadata": {},
   "source": [
    "![mongo_blog.png](mongo_blog.png)\n",
    " <a style=\"color:rgb(216,118,0)\" href = https://www.helenjoscott.com/2022/01/29/mongod-mongo-mongosh-mongos-what-now/><center> Schematic of MongoDB components</center></a>"
   ]
  }
 ],
 "metadata": {
  "kernelspec": {
   "display_name": "Python 3 (ipykernel)",
   "language": "python",
   "name": "python3"
  },
  "language_info": {
   "codemirror_mode": {
    "name": "ipython",
    "version": 3
   },
   "file_extension": ".py",
   "mimetype": "text/x-python",
   "name": "python",
   "nbconvert_exporter": "python",
   "pygments_lexer": "ipython3",
   "version": "3.11.4"
  }
 },
 "nbformat": 4,
 "nbformat_minor": 5
}
